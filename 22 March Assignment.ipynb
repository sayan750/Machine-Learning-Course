{
 "cells": [
  {
   "cell_type": "markdown",
   "id": "e3088957",
   "metadata": {},
   "source": [
    "### 1.\n",
    "\n",
    "To calculate the Pearson correlation coefficient, also known as Pearson's r, between the amount of time students spend studying for an exam and their final exam scores, you would first need to compute the covariance and standard deviation of both variables. Then, you would use these values to calculate the Pearson correlation coefficient using the following formula:\n",
    "\n",
    "r = Cov(X, Y) / (SD(X) * SD(Y))\n",
    "\n",
    "Where X is the variable representing the amount of time spent studying, Y is the variable representing the final exam scores, Cov(X,Y) is the covariance between X and Y, SD(X) is the standard deviation of X, and SD(Y) is the standard deviation of Y.\n",
    "\n",
    "Interpreting the Pearson correlation coefficient involves looking at the sign of the coefficient and its magnitude. The Pearson correlation coefficient ranges from -1 to 1, where a value of -1 indicates a perfect negative linear relationship, 0 indicates no linear relationship, and 1 indicates a perfect positive linear relationship between the two variables.\n",
    "\n",
    "If the Pearson correlation coefficient between the amount of time spent studying and final exam scores is positive, this means that as the amount of time spent studying increases, final exam scores tend to increase as well. If the correlation coefficient is negative, this means that as the amount of time spent studying increases, final exam scores tend to decrease.\n",
    "\n",
    "The magnitude of the correlation coefficient indicates the strength of the relationship. A coefficient closer to 1 or -1 indicates a strong linear relationship, while a coefficient closer to 0 indicates a weak or no linear relationship.\n",
    "\n",
    "For example, if the Pearson correlation coefficient between the amount of time spent studying and final exam scores is 0.8, this indicates a strong positive linear relationship between the two variables, meaning that students who spend more time studying tend to perform better on the final exam. If the correlation coefficient is -0.4, this indicates a weak negative linear relationship, meaning that students who spend more time studying tend to perform worse on the final exam."
   ]
  },
  {
   "cell_type": "markdown",
   "id": "277312c1",
   "metadata": {},
   "source": [
    "### 2.\n",
    "\n",
    "To calculate Spearman's rank correlation coefficient between the amount of sleep individuals get each night and their overall job satisfaction level on a scale of 1 to 10, we need to follow these steps:\n",
    "\n",
    "- Rank the data for each variable separately.\n",
    "- Calculate the differences between the ranks for each individual.\n",
    "- Calculate the squared differences for each individual.\n",
    "- Calculate the sum of the squared differences for all individuals.\n",
    "- Use the formula to calculate the Spearman's rank correlation coefficient."
   ]
  },
  {
   "cell_type": "markdown",
   "id": "bb40bdb1",
   "metadata": {},
   "source": [
    "### 3."
   ]
  },
  {
   "cell_type": "code",
   "execution_count": 1,
   "id": "6c8bf945",
   "metadata": {},
   "outputs": [],
   "source": [
    "import pandas as pd\n",
    "import seaborn as sns"
   ]
  },
  {
   "cell_type": "code",
   "execution_count": 3,
   "id": "476e4056",
   "metadata": {},
   "outputs": [],
   "source": [
    "df = pd.DataFrame({\"Number of Hours\" : [5, 7, 6, 4, 5, 3, 6, 7, 5, 4, 6, 8, 5, 4, 6, 7, 3, 4, 5, 6, 7, 8, 5, 3, 4, 5, 7, 6, 4, 5, 6, 7, 8, 3, 5, 6, 4, 5, 7, 3, 6, 4, 5, 6, 7, 4, 5, 6, 7, 8, 5],\n",
    "             \"BMI\": [25.6, 26.4, 25.9, 28.2, 29.1, 24.7, 26.8, 27.5, 25.1, 28.5, 26.7, 25.6, 30.2, 27.8, 26.1, 27.2, 28.3, 25.3, 26.7, 28.9, 27.1, 29.7, 25.8, 25.2, 28.6, 25.9, 27.8, 26.5, 27.1, 26.8, 28.5, 27.4, 28.6, 29.4, 24.9, 27.6, 26.2, 28.1, 29.3, 27.3, 26.4, 28.0, 27.8, 28.4, 27.1, 28.9, 26.6, 27.2, 28.8, 29.2, 25.6]})"
   ]
  },
  {
   "cell_type": "code",
   "execution_count": 5,
   "id": "9dc0ca63",
   "metadata": {},
   "outputs": [
    {
     "data": {
      "text/html": [
       "<div>\n",
       "<style scoped>\n",
       "    .dataframe tbody tr th:only-of-type {\n",
       "        vertical-align: middle;\n",
       "    }\n",
       "\n",
       "    .dataframe tbody tr th {\n",
       "        vertical-align: top;\n",
       "    }\n",
       "\n",
       "    .dataframe thead th {\n",
       "        text-align: right;\n",
       "    }\n",
       "</style>\n",
       "<table border=\"1\" class=\"dataframe\">\n",
       "  <thead>\n",
       "    <tr style=\"text-align: right;\">\n",
       "      <th></th>\n",
       "      <th>Number of Hours</th>\n",
       "      <th>BMI</th>\n",
       "    </tr>\n",
       "  </thead>\n",
       "  <tbody>\n",
       "    <tr>\n",
       "      <th>0</th>\n",
       "      <td>5</td>\n",
       "      <td>25.6</td>\n",
       "    </tr>\n",
       "    <tr>\n",
       "      <th>1</th>\n",
       "      <td>7</td>\n",
       "      <td>26.4</td>\n",
       "    </tr>\n",
       "    <tr>\n",
       "      <th>2</th>\n",
       "      <td>6</td>\n",
       "      <td>25.9</td>\n",
       "    </tr>\n",
       "    <tr>\n",
       "      <th>3</th>\n",
       "      <td>4</td>\n",
       "      <td>28.2</td>\n",
       "    </tr>\n",
       "    <tr>\n",
       "      <th>4</th>\n",
       "      <td>5</td>\n",
       "      <td>29.1</td>\n",
       "    </tr>\n",
       "  </tbody>\n",
       "</table>\n",
       "</div>"
      ],
      "text/plain": [
       "   Number of Hours   BMI\n",
       "0                5  25.6\n",
       "1                7  26.4\n",
       "2                6  25.9\n",
       "3                4  28.2\n",
       "4                5  29.1"
      ]
     },
     "execution_count": 5,
     "metadata": {},
     "output_type": "execute_result"
    }
   ],
   "source": [
    "df.head()"
   ]
  },
  {
   "cell_type": "code",
   "execution_count": 7,
   "id": "89389f34",
   "metadata": {},
   "outputs": [
    {
     "data": {
      "text/html": [
       "<div>\n",
       "<style scoped>\n",
       "    .dataframe tbody tr th:only-of-type {\n",
       "        vertical-align: middle;\n",
       "    }\n",
       "\n",
       "    .dataframe tbody tr th {\n",
       "        vertical-align: top;\n",
       "    }\n",
       "\n",
       "    .dataframe thead th {\n",
       "        text-align: right;\n",
       "    }\n",
       "</style>\n",
       "<table border=\"1\" class=\"dataframe\">\n",
       "  <thead>\n",
       "    <tr style=\"text-align: right;\">\n",
       "      <th></th>\n",
       "      <th>Number of Hours</th>\n",
       "      <th>BMI</th>\n",
       "    </tr>\n",
       "  </thead>\n",
       "  <tbody>\n",
       "    <tr>\n",
       "      <th>Number of Hours</th>\n",
       "      <td>1.000000</td>\n",
       "      <td>0.166353</td>\n",
       "    </tr>\n",
       "    <tr>\n",
       "      <th>BMI</th>\n",
       "      <td>0.166353</td>\n",
       "      <td>1.000000</td>\n",
       "    </tr>\n",
       "  </tbody>\n",
       "</table>\n",
       "</div>"
      ],
      "text/plain": [
       "                 Number of Hours       BMI\n",
       "Number of Hours         1.000000  0.166353\n",
       "BMI                     0.166353  1.000000"
      ]
     },
     "execution_count": 7,
     "metadata": {},
     "output_type": "execute_result"
    }
   ],
   "source": [
    "## Calculate Pearson Correlation\n",
    "df.corr(method = 'pearson')"
   ]
  },
  {
   "cell_type": "code",
   "execution_count": 8,
   "id": "1990f524",
   "metadata": {},
   "outputs": [
    {
     "data": {
      "text/html": [
       "<div>\n",
       "<style scoped>\n",
       "    .dataframe tbody tr th:only-of-type {\n",
       "        vertical-align: middle;\n",
       "    }\n",
       "\n",
       "    .dataframe tbody tr th {\n",
       "        vertical-align: top;\n",
       "    }\n",
       "\n",
       "    .dataframe thead th {\n",
       "        text-align: right;\n",
       "    }\n",
       "</style>\n",
       "<table border=\"1\" class=\"dataframe\">\n",
       "  <thead>\n",
       "    <tr style=\"text-align: right;\">\n",
       "      <th></th>\n",
       "      <th>Number of Hours</th>\n",
       "      <th>BMI</th>\n",
       "    </tr>\n",
       "  </thead>\n",
       "  <tbody>\n",
       "    <tr>\n",
       "      <th>Number of Hours</th>\n",
       "      <td>1.000000</td>\n",
       "      <td>0.140842</td>\n",
       "    </tr>\n",
       "    <tr>\n",
       "      <th>BMI</th>\n",
       "      <td>0.140842</td>\n",
       "      <td>1.000000</td>\n",
       "    </tr>\n",
       "  </tbody>\n",
       "</table>\n",
       "</div>"
      ],
      "text/plain": [
       "                 Number of Hours       BMI\n",
       "Number of Hours         1.000000  0.140842\n",
       "BMI                     0.140842  1.000000"
      ]
     },
     "execution_count": 8,
     "metadata": {},
     "output_type": "execute_result"
    }
   ],
   "source": [
    "## Calculate Spearman Correlation\n",
    "df.corr(method = 'spearman')"
   ]
  },
  {
   "cell_type": "markdown",
   "id": "e622dda1",
   "metadata": {},
   "source": [
    "### 4. "
   ]
  },
  {
   "cell_type": "code",
   "execution_count": 9,
   "id": "b29b4733",
   "metadata": {},
   "outputs": [],
   "source": [
    "df1 = pd.DataFrame({\"Watching Television\" : [2, 3.5, 1, 2.3, 5, 3, 3.54, 4.5, 5.2, 3.4, 7.5, 8, 3.5, 3.5, 0.55, 1.5, 0.30, 6.5, 5, 6.5, 7.5, 8, 5, 3.5, 4, 5.5, 7.2, 6, 4.5, 5, 6.5, 7, 8.5, 3, 5.5, 6.5, 4, 5.5, 7, 3.5, 6, 4, 5.5, 6, 7.4, 4, 5.6, 6, 7, 8.5, 5],\n",
    "             \"Physical Activity - Walking\": [2500, 2000, 2570, 2400, 5000, 800, 2000, 5000, 1500, 8000, 2650, 2560, 3000, 2750, 2610, 2740, 2850, 2510, 2630, 2820, 2730, 2000, 2590, 21000, 4000, 2300, 2780, 2650, 2750, 2600, 2800, 2750, 2850, 2920, 2490, 2740, 2600, 2800, 29100, 27000, 2650, 2800, 9000, 2800, 2750, 2850, 2350, 2760, 2880, 2920, 2550]})"
   ]
  },
  {
   "cell_type": "code",
   "execution_count": 11,
   "id": "c5b6f717",
   "metadata": {},
   "outputs": [
    {
     "data": {
      "text/html": [
       "<div>\n",
       "<style scoped>\n",
       "    .dataframe tbody tr th:only-of-type {\n",
       "        vertical-align: middle;\n",
       "    }\n",
       "\n",
       "    .dataframe tbody tr th {\n",
       "        vertical-align: top;\n",
       "    }\n",
       "\n",
       "    .dataframe thead th {\n",
       "        text-align: right;\n",
       "    }\n",
       "</style>\n",
       "<table border=\"1\" class=\"dataframe\">\n",
       "  <thead>\n",
       "    <tr style=\"text-align: right;\">\n",
       "      <th></th>\n",
       "      <th>Watching Television</th>\n",
       "      <th>Physical Activity - Walking</th>\n",
       "    </tr>\n",
       "  </thead>\n",
       "  <tbody>\n",
       "    <tr>\n",
       "      <th>0</th>\n",
       "      <td>2.0</td>\n",
       "      <td>2500</td>\n",
       "    </tr>\n",
       "    <tr>\n",
       "      <th>1</th>\n",
       "      <td>3.5</td>\n",
       "      <td>2000</td>\n",
       "    </tr>\n",
       "    <tr>\n",
       "      <th>2</th>\n",
       "      <td>1.0</td>\n",
       "      <td>2570</td>\n",
       "    </tr>\n",
       "    <tr>\n",
       "      <th>3</th>\n",
       "      <td>2.3</td>\n",
       "      <td>2400</td>\n",
       "    </tr>\n",
       "    <tr>\n",
       "      <th>4</th>\n",
       "      <td>5.0</td>\n",
       "      <td>5000</td>\n",
       "    </tr>\n",
       "  </tbody>\n",
       "</table>\n",
       "</div>"
      ],
      "text/plain": [
       "   Watching Television  Physical Activity - Walking\n",
       "0                  2.0                         2500\n",
       "1                  3.5                         2000\n",
       "2                  1.0                         2570\n",
       "3                  2.3                         2400\n",
       "4                  5.0                         5000"
      ]
     },
     "execution_count": 11,
     "metadata": {},
     "output_type": "execute_result"
    }
   ],
   "source": [
    "df1.head()"
   ]
  },
  {
   "cell_type": "code",
   "execution_count": 12,
   "id": "3b92cf16",
   "metadata": {},
   "outputs": [
    {
     "data": {
      "text/html": [
       "<div>\n",
       "<style scoped>\n",
       "    .dataframe tbody tr th:only-of-type {\n",
       "        vertical-align: middle;\n",
       "    }\n",
       "\n",
       "    .dataframe tbody tr th {\n",
       "        vertical-align: top;\n",
       "    }\n",
       "\n",
       "    .dataframe thead th {\n",
       "        text-align: right;\n",
       "    }\n",
       "</style>\n",
       "<table border=\"1\" class=\"dataframe\">\n",
       "  <thead>\n",
       "    <tr style=\"text-align: right;\">\n",
       "      <th></th>\n",
       "      <th>Number of Hours</th>\n",
       "      <th>BMI</th>\n",
       "    </tr>\n",
       "  </thead>\n",
       "  <tbody>\n",
       "    <tr>\n",
       "      <th>Number of Hours</th>\n",
       "      <td>1.000000</td>\n",
       "      <td>0.166353</td>\n",
       "    </tr>\n",
       "    <tr>\n",
       "      <th>BMI</th>\n",
       "      <td>0.166353</td>\n",
       "      <td>1.000000</td>\n",
       "    </tr>\n",
       "  </tbody>\n",
       "</table>\n",
       "</div>"
      ],
      "text/plain": [
       "                 Number of Hours       BMI\n",
       "Number of Hours         1.000000  0.166353\n",
       "BMI                     0.166353  1.000000"
      ]
     },
     "execution_count": 12,
     "metadata": {},
     "output_type": "execute_result"
    }
   ],
   "source": [
    "## Calculate Pearson Correlation\n",
    "df.corr(method = 'pearson')"
   ]
  },
  {
   "cell_type": "markdown",
   "id": "c615af6f",
   "metadata": {},
   "source": [
    "Note that the Pearson correlation coefficient measures the strength of a linear relationship between two variables, ranging from -1 to 1. A value of 1 indicates a perfect positive linear relationship, a value of -1 indicates a perfect negative linear relationship, and a value of 0 indicates no linear relationship between the two variables."
   ]
  },
  {
   "cell_type": "markdown",
   "id": "d54cfba8",
   "metadata": {},
   "source": [
    "### 5.\n",
    "\n",
    "Based on the survey results provided, the following observations can be made:\n",
    "\n",
    "- The survey included a small sample of six individuals.\n",
    "- The age of the respondents ranged from 19 to 42 years.\n",
    "- The soft drink preferences of the respondents were divided between three brands: Coke, Pepsi, and Mountain Dew.\n",
    "- Coke was the most popular brand, with three respondents preferring it.\n",
    "- Pepsi was the second most popular brand, with two respondents preferring it.\n",
    "- Mountain Dew was the least popular brand, with only one respondent preferring it."
   ]
  },
  {
   "cell_type": "markdown",
   "id": "e2dcab33",
   "metadata": {},
   "source": [
    "### 6.\n",
    "\n",
    "Let's assume that the data collected by the company is stored in two arrays, X and Y, where X contains the number of sales calls made per day and Y contains the number of sales made per week. "
   ]
  },
  {
   "cell_type": "code",
   "execution_count": 13,
   "id": "a6251255",
   "metadata": {},
   "outputs": [],
   "source": [
    "import numpy as np\n",
    "\n",
    "X = np.array([20, 25, 30, 35, 40, 45, 50, 55, 60, 65, 70, 75, 80, 85, 90, 95, 100, 105, 110, 115, 120, 125, 130, 135, 140, 145, 150, 155, 160, 165])\n",
    "Y = np.array([1, 2, 3, 4, 5, 6, 7, 8, 9, 10, 11, 12, 13, 14, 15, 16, 17, 18, 19, 20, 21, 22, 23, 24, 25, 26, 27, 28, 29, 30])"
   ]
  },
  {
   "cell_type": "code",
   "execution_count": 14,
   "id": "d97684cd",
   "metadata": {},
   "outputs": [
    {
     "name": "stdout",
     "output_type": "stream",
     "text": [
      "The Pearson correlation coefficient between sales calls per day and sales per week is: 1.0344827586206895\n"
     ]
    }
   ],
   "source": [
    "cov_xy = np.cov(X, Y)[0][1]\n",
    "\n",
    "sd_x = np.std(X)\n",
    "sd_y = np.std(Y)\n",
    "\n",
    "r = cov_xy / (sd_x * sd_y)\n",
    "\n",
    "print(\"The Pearson correlation coefficient between sales calls per day and sales per week is:\", r)"
   ]
  },
  {
   "cell_type": "code",
   "execution_count": null,
   "id": "d8e5624d",
   "metadata": {},
   "outputs": [],
   "source": []
  },
  {
   "cell_type": "code",
   "execution_count": null,
   "id": "e5128e99",
   "metadata": {},
   "outputs": [],
   "source": []
  },
  {
   "cell_type": "code",
   "execution_count": null,
   "id": "df02c7eb",
   "metadata": {},
   "outputs": [],
   "source": []
  },
  {
   "cell_type": "code",
   "execution_count": null,
   "id": "9a842889",
   "metadata": {},
   "outputs": [],
   "source": []
  }
 ],
 "metadata": {
  "kernelspec": {
   "display_name": "Python 3 (ipykernel)",
   "language": "python",
   "name": "python3"
  },
  "language_info": {
   "codemirror_mode": {
    "name": "ipython",
    "version": 3
   },
   "file_extension": ".py",
   "mimetype": "text/x-python",
   "name": "python",
   "nbconvert_exporter": "python",
   "pygments_lexer": "ipython3",
   "version": "3.9.13"
  }
 },
 "nbformat": 4,
 "nbformat_minor": 5
}
