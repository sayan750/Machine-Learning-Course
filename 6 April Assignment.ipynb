{
 "cells": [
  {
   "cell_type": "markdown",
   "id": "17ae6216",
   "metadata": {},
   "source": [
    "### 1.\n",
    "\n",
    "The mathematical formula for a linear Support Vector Machine (SVM) can be represented as follows:\n",
    "\n",
    "Given a set of labeled training data points (xᵢ, yᵢ) where xᵢ represents the input features and yᵢ represents the corresponding class labels (-1 or +1), the linear SVM aims to find a hyperplane that maximally separates the two classes.\n",
    "\n",
    "The decision function of a linear SVM can be written as:\n",
    "\n",
    "f(x) = w·x + b\n",
    "\n",
    "where:\n",
    "\n",
    "- f(x) is the decision function for a given input x.\n",
    "- w is the weight vector perpendicular to the hyperplane.\n",
    "- · represents the dot product between vectors.\n",
    "- b is the bias term, also known as the intercept."
   ]
  },
  {
   "cell_type": "markdown",
   "id": "d15ca124",
   "metadata": {},
   "source": [
    "### 2.\n",
    "\n",
    "The objective function of a linear Support Vector Machine (SVM) is to find the optimal hyperplane that separates the two classes in a binary classification problem. The goal is to maximize the margin between the classes while minimizing the classification error.\n",
    "\n",
    "Mathematically, the objective function of a linear SVM can be expressed as:\n",
    "\n",
    "minimize: (1/2) * ||w||^2 + C * Σ(max(0, 1 - yi * (w^T * xi + b)))\n",
    "\n",
    "subject to: yi * (w^T * xi + b) >= 1 for all training examples (xi, yi)\n",
    "\n",
    "In this objective function:\n",
    "\n",
    "- w represents the weight vector of the hyperplane.\n",
    "- b is the bias term.\n",
    "- xi is a training example.\n",
    "- yi is the corresponding class label (+1 or -1) for xi.\n",
    "- C is the regularization parameter that controls the trade-off between maximizing the margin and allowing for misclassifications."
   ]
  },
  {
   "cell_type": "markdown",
   "id": "95eb1764",
   "metadata": {},
   "source": [
    "### 3.\n",
    "\n",
    "The kernel trick is a technique used in Support Vector Machines (SVM) to transform input data into higher-dimensional feature spaces without explicitly calculating the coordinates of the data points in that space. It allows SVMs to efficiently solve nonlinear classification and regression problems.\n",
    "\n",
    "In SVM, the goal is to find a hyperplane that separates the data points of different classes with the largest margin. In linear SVM, the data points are mapped to a higher-dimensional space using a linear function. However, some datasets may not be linearly separable in their original feature space."
   ]
  },
  {
   "cell_type": "markdown",
   "id": "acb626b3",
   "metadata": {},
   "source": [
    "### 4.\n",
    "\n",
    "In Support Vector Machines (SVM), support vectors play a crucial role in defining the decision boundary and maximizing the margin between different classes. Support vectors are the data points from the training set that are closest to the decision boundary, which are the most difficult examples to classify correctly.\n",
    "\n",
    "To explain the role of support vectors in SVM, let's consider a binary classification problem with two classes: class A and class B. We want to find a decision boundary that separates the two classes as accurately as possible. SVM aims to find the hyperplane that maximizes the margin between the two classes.\n",
    "\n",
    "Here's an example: Imagine a dataset with points from class A and class B plotted on a 2D plane. The goal is to find a straight line (decision boundary) that separates the two classes. The line should be positioned in such a way that it maximizes the distance to the nearest points of both classes.\n",
    "\n",
    "In SVM, the support vectors are the points that lie closest to the decision boundary or lie on the margin. These points play a crucial role because they define the position and orientation of the decision boundary. The decision boundary is chosen to ensure that the margin is maximized while still correctly separating the two classes."
   ]
  },
  {
   "cell_type": "markdown",
   "id": "b94ddaf2",
   "metadata": {},
   "source": [
    "### 5.\n",
    "\n",
    "Hyperplane: In SVM, a hyperplane is a decision boundary that separates data points of different classes. It is a multidimensional extension of a line in two dimensions or a plane in three dimensions. In a binary classification problem, a hyperplane divides the feature space into two regions, one for each class. The goal of SVM is to find the optimal hyperplane that maximally separates the classes.\n",
    "\n",
    "Marginal Plane: The marginal plane, also known as the maximum-margin hyperplane, is the hyperplane that lies exactly between the support vectors of the two classes in SVM. Support vectors are the data points that are closest to the decision boundary. The marginal plane maximizes the distance between the support vectors of different classes, which provides a wider margin and better generalization.\n",
    "\n",
    "Soft Margin: In some cases, it may not be possible to find a hyperplane that perfectly separates the classes due to overlapping or noisy data. In such situations, SVM allows for a soft margin, which allows some data points to be misclassified or fall within the margin. The soft margin is a more flexible approach that introduces a penalty for misclassification or data points within the margin. The degree of flexibility is controlled by a parameter called C, which trades off the margin size and the number of misclassifications.\n",
    "\n",
    "Hard Margin: In contrast to the soft margin, the hard margin SVM requires that all training examples be correctly classified, and the margin should be maximized without allowing any misclassifications or data points within the margin. The hard margin SVM is more prone to overfitting and may not work well with noisy or overlapping data."
   ]
  },
  {
   "cell_type": "markdown",
   "id": "e1ef90ef",
   "metadata": {},
   "source": [
    "### 6."
   ]
  },
  {
   "cell_type": "code",
   "execution_count": 15,
   "id": "9b3562a5",
   "metadata": {},
   "outputs": [],
   "source": [
    "from sklearn.datasets import load_iris\n",
    "from sklearn.model_selection import train_test_split\n",
    "import pandas as pd\n",
    "import numpy as np\n",
    "import matplotlib.pyplot as plt"
   ]
  },
  {
   "cell_type": "code",
   "execution_count": 16,
   "id": "90020577",
   "metadata": {},
   "outputs": [],
   "source": [
    "iris = load_iris()"
   ]
  },
  {
   "cell_type": "code",
   "execution_count": 17,
   "id": "44310a61",
   "metadata": {},
   "outputs": [],
   "source": [
    "X = iris.data\n",
    "y = iris.target"
   ]
  },
  {
   "cell_type": "code",
   "execution_count": 18,
   "id": "4f6cfaa0",
   "metadata": {},
   "outputs": [],
   "source": [
    "X_train, X_test, y_train, y_test = train_test_split(X,y, test_size=0.2, random_state=42)"
   ]
  },
  {
   "cell_type": "code",
   "execution_count": 19,
   "id": "a941bb89",
   "metadata": {},
   "outputs": [],
   "source": [
    "from sklearn.svm import SVC"
   ]
  },
  {
   "cell_type": "code",
   "execution_count": 20,
   "id": "8ff84707",
   "metadata": {},
   "outputs": [],
   "source": [
    "svc= SVC(kernel='linear')"
   ]
  },
  {
   "cell_type": "code",
   "execution_count": 21,
   "id": "cfbfdc61",
   "metadata": {},
   "outputs": [
    {
     "data": {
      "text/plain": [
       "SVC(kernel='linear')"
      ]
     },
     "execution_count": 21,
     "metadata": {},
     "output_type": "execute_result"
    }
   ],
   "source": [
    "svc.fit(X_train,y_train)"
   ]
  },
  {
   "cell_type": "code",
   "execution_count": 22,
   "id": "9363b08d",
   "metadata": {},
   "outputs": [],
   "source": [
    "y_pred = svc.predict(X_test)"
   ]
  },
  {
   "cell_type": "code",
   "execution_count": 23,
   "id": "887e2744",
   "metadata": {},
   "outputs": [
    {
     "data": {
      "text/plain": [
       "array([1, 0, 2, 1, 1, 0, 1, 2, 1, 1, 2, 0, 0, 0, 0, 1, 2, 1, 1, 2, 0, 2,\n",
       "       0, 2, 2, 2, 2, 2, 0, 0])"
      ]
     },
     "execution_count": 23,
     "metadata": {},
     "output_type": "execute_result"
    }
   ],
   "source": [
    "y_pred"
   ]
  },
  {
   "cell_type": "code",
   "execution_count": 24,
   "id": "802cb394",
   "metadata": {},
   "outputs": [],
   "source": [
    "from sklearn.metrics import accuracy_score"
   ]
  },
  {
   "cell_type": "code",
   "execution_count": 25,
   "id": "24812ddc",
   "metadata": {},
   "outputs": [],
   "source": [
    "accuracy = accuracy_score(y_test,y_pred)"
   ]
  },
  {
   "cell_type": "code",
   "execution_count": 26,
   "id": "0e2d277e",
   "metadata": {},
   "outputs": [
    {
     "name": "stdout",
     "output_type": "stream",
     "text": [
      "1.0\n"
     ]
    }
   ],
   "source": [
    "print(accuracy)"
   ]
  },
  {
   "cell_type": "code",
   "execution_count": 29,
   "id": "a8994bf7",
   "metadata": {},
   "outputs": [],
   "source": [
    "# Index of the first and second feature\n",
    "\n",
    "feature_index1 = 0\n",
    "feature_index2 = 1  \n",
    "\n",
    "x_min, x_max = X[:, feature_index1].min() - 1, X[:, feature_index1].max() + 1\n",
    "y_min, y_max = X[:, feature_index2].min() - 1, X[:, feature_index2].max() + 1"
   ]
  },
  {
   "cell_type": "code",
   "execution_count": 30,
   "id": "8af85d9d",
   "metadata": {},
   "outputs": [],
   "source": [
    "xx, yy = np.meshgrid(np.arange(x_min, x_max, 0.02),np.arange(y_min, y_max, 0.02))"
   ]
  },
  {
   "cell_type": "code",
   "execution_count": 37,
   "id": "0048c980",
   "metadata": {},
   "outputs": [],
   "source": [
    "# Make predictions on the meshgrid\n",
    "a = svc.predict(np.c_[xx.ravel(), yy.ravel(), np.zeros(xx.ravel().shape), np.zeros(xx.ravel().shape)])\n",
    "Z = a.reshape(xx.shape)"
   ]
  },
  {
   "cell_type": "code",
   "execution_count": 45,
   "id": "53bef3a9",
   "metadata": {},
   "outputs": [
    {
     "data": {
      "image/png": "[encoded data removed]",
      "text/plain": [
       "<Figure size 640x480 with 1 Axes>"
      ]
     },
     "metadata": {},
     "output_type": "display_data"
    }
   ],
   "source": [
    "## Create a plot\n",
    "plt.contourf(xx, yy, Z, alpha=0.8)\n",
    "plt.scatter(X[:, feature_index1], X[:, feature_index2], c=y, edgecolors='k')\n",
    "plt.xlabel(iris.feature_names[feature_index1])\n",
    "plt.ylabel(iris.feature_names[feature_index2])\n",
    "plt.title(\"Decision Boundaries\")\n",
    "plt.show()"
   ]
  },
  {
   "cell_type": "code",
   "execution_count": 41,
   "id": "a3913387",
   "metadata": {},
   "outputs": [
    {
     "name": "stdout",
     "output_type": "stream",
     "text": [
      "C = 0.1 , Accuracy: 1.0\n",
      "C = 1 , Accuracy: 1.0\n",
      "C = 10 , Accuracy: 0.9666666666666667\n"
     ]
    }
   ],
   "source": [
    "C_values = [0.1, 1, 10]  # List of different C values\n",
    "\n",
    "for i in C_values:\n",
    "    # Train a linear SVM classifier with the specified C value\n",
    "    svm = SVC(kernel='linear', C=i)\n",
    "    svm.fit(X_train, y_train)\n",
    "\n",
    "    # Predict the labels for the testing set\n",
    "    y_pred = svm.predict(X_test)\n",
    "\n",
    "    # Compute the accuracy of the model\n",
    "    accuracy = accuracy_score(y_test, y_pred)\n",
    "    print(\"C =\", i, \", Accuracy:\", accuracy)"
   ]
  },
  {
   "cell_type": "code",
   "execution_count": null,
   "id": "4fac1377",
   "metadata": {},
   "outputs": [],
   "source": []
  },
  {
   "cell_type": "code",
   "execution_count": null,
   "id": "fb80eb0f",
   "metadata": {},
   "outputs": [],
   "source": []
  },
  {
   "cell_type": "code",
   "execution_count": null,
   "id": "11d7f445",
   "metadata": {},
   "outputs": [],
   "source": []
  },
  {
   "cell_type": "code",
   "execution_count": null,
   "id": "04fabdd8",
   "metadata": {},
   "outputs": [],
   "source": []
  },
  {
   "cell_type": "code",
   "execution_count": null,
   "id": "25f5eacf",
   "metadata": {},
   "outputs": [],
   "source": []
  }
 ],
 "metadata": {
  "kernelspec": {
   "display_name": "Python 3 (ipykernel)",
   "language": "python",
   "name": "python3"
  },
  "language_info": {
   "codemirror_mode": {
    "name": "ipython",
    "version": 3
   },
   "file_extension": ".py",
   "mimetype": "text/x-python",
   "name": "python",
   "nbconvert_exporter": "python",
   "pygments_lexer": "ipython3",
   "version": "3.9.13"
  }
 },
 "nbformat": 4,
 "nbformat_minor": 5
}
